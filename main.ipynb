{
 "cells": [
  {
   "cell_type": "code",
   "execution_count": 80,
   "metadata": {},
   "outputs": [],
   "source": [
    "import pandas as pd\n",
    "import re, random\n",
    "import numpy as np"
   ]
  },
  {
   "cell_type": "code",
   "execution_count": 76,
   "metadata": {},
   "outputs": [
    {
     "name": "stdout",
     "output_type": "stream",
     "text": [
      "12972\n"
     ]
    }
   ],
   "source": [
    "def loadFileArr(loc):\n",
    "    with open(loc) as f:\n",
    "        words = f.readlines()\n",
    "        words = list(map(lambda x:x[:-1], words))\n",
    "    return words\n",
    "\n",
    "\n",
    "wordList_orig=loadFileArr('preReq/allowed_words.txt')\n",
    "# wordList_orig=loadFileArr('preReq/possible_ans.txt')\n",
    "\n",
    "alps = ['a', 'b', 'c', 'd', 'e', 'f', 'g', 'h', 'i', 'j', 'k', 'l', 'm', 'n', 'o', 'p', 'q', 'r', 's', 't', 'u', 'v', 'w', 'x', 'y', 'z']\n",
    "freq = [8, 1, 2, 4, 13, 2, 2, 6, 6, 0, 0, 4, 2, 6, 7, 1, 0, 5, 6, 9, 2, 0, 2, 0, 2, 0]\n",
    "\n",
    "freqs = pd.DataFrame({'alps': alps, 'freq': freq})\n",
    "df = freqs\n",
    "freqs = freqs.set_index('alps')\n",
    "df['freq'] = df.freq.astype('int')\n",
    "df = df.sort_values(by=['freq'], ascending=False)\n",
    "df = df[df['freq']>6]\n",
    "prefList = ['E','T','A','O']\n",
    "df.head(10)\n",
    "print(len(wordList_orig))"
   ]
  },
  {
   "cell_type": "code",
   "execution_count": 77,
   "metadata": {},
   "outputs": [],
   "source": [
    "setSize=5\n",
    "\n",
    "def getMVP(arr):\n",
    "    d = pd.DataFrame({'a': arr})\n",
    "    d['b'] = d['a'].apply(calcVal)\n",
    "    d = d.sort_values(by=['b'], ascending=False)\n",
    "    return d.loc[0].a\n",
    "\n",
    "def guess(wl):\n",
    "    ls = getFilt(wl)\n",
    "    hiFreq = ['a','t','o','i']\n",
    "    for i in hiFreq: ls = list(filter(lambda x:x.find(i)>=0, ls))\n",
    "    return ls\n",
    "\n",
    "def eliminate(g, inWord, pred):\n",
    "    ls = g\n",
    "    if inWord in ls: ls.pop(ls.index(inWord))\n",
    "    inarr   = list(zip([i for i in pred],[i for i in inWord]))\n",
    "    remove  = list(filter(lambda x: x[0]=='0', inarr))\n",
    "    \n",
    "    for i in remove: ls = list(filter(lambda x:x.find(i[1])<0, ls))\n",
    "\n",
    "    if '2' in pred:\n",
    "        tmp = pred.replace('0','.')\n",
    "        tmp = tmp.replace('1','.')\n",
    "        look = list(filter(lambda x: x[0]=='2', inarr)) \n",
    "        look = list(map(lambda x: x[1], look))\n",
    "        \n",
    "        for i in look: tmp = tmp.replace('2', i,1)\n",
    "        tmp = f'^{tmp}$'\n",
    "        ls = list(filter(lambda x: bool(re.match(tmp, x)), ls))\n",
    "        \n",
    "    if '1' in pred: \n",
    "        tmp = pred.replace('0','.')\n",
    "        tmp = tmp.replace('2','.')\n",
    "        look = list(filter(lambda x: x[0]=='1', inarr))\n",
    "        look = list(map(lambda x: x[1], look))\n",
    "        for i in look: tmp = tmp.replace('1', i,1)\n",
    "        tmp = f'^{tmp}$'\n",
    "        ls = list(filter(lambda x: bool(re.match(tmp, x))==False, ls))\n",
    "        \n",
    "    return ls\n",
    "\n",
    "def calcVal(word):\n",
    "    ret = 0\n",
    "    for i in word: ret+=freqs.loc[i].freq\n",
    "    return ret\n",
    "\n",
    "def validate(guess, word,g,verbose=True):\n",
    "    fin=\"\"\n",
    "    val = ''\n",
    "    for d,i in enumerate(guess): \n",
    "        if i in word and i==word[d]: \n",
    "            fin+='🟩'\n",
    "            val+='2'\n",
    "        elif i in word: \n",
    "            fin+= '🟨'\n",
    "            val+='1'\n",
    "        else: \n",
    "            fin+='⬛'\n",
    "            val+='0'\n",
    "    if verbose:\n",
    "        print(fin, end = \" | \")\n",
    "        print(guess, end = \" | \")\n",
    "        print(len(g), end = \" | \")\n",
    "    return val\n",
    "    \n",
    "def getFilt(arr, drop=True):\n",
    "    posibs = arr\n",
    "    if drop:\n",
    "        reps = list(map(lambda x: len({i for i in x}), arr))\n",
    "        minSiz = max(reps)\n",
    "        posibs = list(filter(lambda x:len({i for i in x})==minSiz, arr))\n",
    "    return posibs\n",
    "    \n",
    "def select(arr, drop=True): \n",
    "    posibs = getFilt(arr, drop)\n",
    "    return getMVP(posibs)\n",
    "\n",
    "    # ser = list(zip(nu, posibs))\n",
    "    # if exts: maxScore = min(nu)\n",
    "    # else: maxScore = max(nu)\n",
    "    # l = nu.index(maxScore)\n",
    "    \n",
    "    # return ser[l][1]\n",
    "\n",
    "def run(i, srWord, verbose=True):\n",
    "    turns=0\n",
    "    setWord = wordList[i]\n",
    "    g = wordList\n",
    "    if verbose: print(f'set: {setWord}')\n",
    "    pred = validate(srWord, setWord, g,verbose)\n",
    "\n",
    "    turns+=1\n",
    "    if verbose: print(turns)\n",
    "    dro = True\n",
    "    while pred!= '22222' and turns!=5:\n",
    "        turns+=1\n",
    "        g = eliminate(g, srWord, pred)\n",
    "        # if turns==3: dro, ext = False, False\n",
    "        srWord = select(g, dro)\n",
    "        pred = validate(srWord,setWord, g,verbose)\n",
    "        if verbose: print(turns)\n",
    "    return sum([int(i) for i in pred])\n",
    "\n",
    "def avg(ret, div): return (sum(ret)/div)*100\n",
    "\n",
    "\n",
    "guessArr = guess(wordList_orig)\n",
    "# for i in list(range(10)):\n",
    "#     r = random.randint(0,2314)\n",
    "# #     run(r, 'ratio')\n",
    "#     run(r, guessArr[0])"
   ]
  },
  {
   "cell_type": "code",
   "execution_count": 78,
   "metadata": {},
   "outputs": [
    {
     "data": {
      "text/plain": [
       "70"
      ]
     },
     "execution_count": 78,
     "metadata": {},
     "output_type": "execute_result"
    }
   ],
   "source": [
    "# bench mark\n",
    "su = []\n",
    "for i in list(range(100)):\n",
    "        r = random.randint(0,2314)\n",
    "        su.append(run(r,'patio', False))\n",
    "        \n",
    "set(su)\n",
    "len(list(filter(lambda x: x==10, su)))"
   ]
  },
  {
   "cell_type": "code",
   "execution_count": 79,
   "metadata": {},
   "outputs": [
    {
     "name": "stdout",
     "output_type": "stream",
     "text": [
      "set: udder\n",
      "⬛⬛⬛⬛🟨 | atone | 2313 | 1\n",
      "⬛🟨⬛⬛⬛ | belch | 361 | 2\n",
      "🟨⬛⬛🟩🟩 | diver | 88 | 3\n",
      "⬛🟨⬛🟩🟩 | super | 8 | 4\n",
      "🟩🟩🟩🟩🟩 | udder | 2 | 5\n",
      "set: blunt\n",
      "⬛🟨⬛🟩⬛ | atone | 2312 | 1\n",
      "🟩🟩⬛🟩⬛ | blind | 51 | 2\n",
      "🟩🟩🟩🟩🟩 | blunt | 1 | 3\n",
      "set: click\n",
      "⬛⬛⬛⬛⬛ | atone | 2312 | 1\n",
      "⬛🟨⬛🟩⬛ | birch | 191 | 2\n",
      "⬛🟩🟩🟩🟩 | flick | 8 | 3\n",
      "⬛🟩🟩🟩🟩 | slick | 2 | 4\n",
      "🟩🟩🟩🟩🟩 | click | 1 | 5\n",
      "set: juror\n",
      "⬛⬛🟨⬛⬛ | atone | 2312 | 1\n",
      "⬛⬛🟩⬛⬛ | birch | 269 | 2\n",
      "⬛🟨🟩🟨⬛ | forum | 13 | 3\n",
      "⬛🟩🟩⬛⬛ | surly | 8 | 4\n",
      "🟩🟩🟩🟩🟩 | juror | 1 | 5\n",
      "set: medal\n",
      "🟨⬛⬛⬛🟨 | atone | 2312 | 1\n",
      "🟨⬛🟨🟨🟨 | abled | 844 | 2\n",
      "🟨⬛⬛⬛🟨 | acrid | 725 | 3\n",
      "🟨🟨⬛🟨⬛ | amply | 206 | 4\n",
      "🟨⬛⬛🟨⬛ | askew | 102 | 5\n",
      "set: fishy\n",
      "⬛⬛⬛⬛⬛ | atone | 2312 | 1\n",
      "⬛🟩⬛⬛🟨 | birch | 191 | 2\n",
      "⬛🟩⬛⬛🟩 | dimly | 25 | 3\n",
      "🟩🟩🟩🟩🟩 | fishy | 8 | 4\n",
      "set: tasty\n",
      "🟨🟨⬛⬛⬛ | atone | 2312 | 1\n",
      "🟨⬛⬛⬛⬛ | acrid | 584 | 2\n",
      "⬛🟩⬛⬛🟩 | balmy | 126 | 3\n",
      "⬛🟩⬛⬛🟩 | gawky | 15 | 4\n",
      "⬛🟩🟩🟩🟩 | hasty | 13 | 5\n",
      "set: ovine\n",
      "⬛⬛🟨🟩🟩 | atone | 2312 | 1\n",
      "⬛🟨⬛🟩🟩 | borne | 12 | 2\n",
      "🟩⬛🟩🟩🟩 | opine | 8 | 3\n",
      "🟩🟩🟩🟩🟩 | ovine | 1 | 4\n",
      "set: acute\n",
      "🟩🟨⬛⬛🟩 | atone | 2312 | 1\n",
      "🟩⬛⬛⬛🟩 | abide | 26 | 2\n",
      "🟩🟩🟩🟩🟩 | acute | 13 | 3\n",
      "set: blurt\n",
      "⬛🟨⬛⬛⬛ | atone | 2312 | 1\n",
      "🟩⬛🟨⬛⬛ | birch | 272 | 2\n",
      "🟩🟩🟩🟩🟩 | blurt | 7 | 3\n"
     ]
    }
   ],
   "source": [
    "for i in list(range(10)):\n",
    "    r = random.randint(0,2314)\n",
    "    run(r, 'atone')"
   ]
  },
  {
   "cell_type": "code",
   "execution_count": 51,
   "metadata": {},
   "outputs": [
    {
     "data": {
      "text/plain": [
       "1355"
      ]
     },
     "execution_count": 51,
     "metadata": {},
     "output_type": "execute_result"
    }
   ],
   "source": [
    "wordList.index('overt')"
   ]
  },
  {
   "cell_type": "code",
   "execution_count": 101,
   "metadata": {},
   "outputs": [
    {
     "ename": "ValueError",
     "evalue": "'c' is not in list",
     "output_type": "error",
     "traceback": [
      "\u001b[0;31m---------------------------------------------------------------------------\u001b[0m",
      "\u001b[0;31mValueError\u001b[0m                                Traceback (most recent call last)",
      "\u001b[0;32m/tmp/ipykernel_35663/2662978294.py\u001b[0m in \u001b[0;36m<module>\u001b[0;34m\u001b[0m\n\u001b[1;32m      2\u001b[0m \u001b[0;31m# a.pop(a.index('a'))\u001b[0m\u001b[0;34m\u001b[0m\u001b[0;34m\u001b[0m\u001b[0m\n\u001b[1;32m      3\u001b[0m \u001b[0;31m# print(a)\u001b[0m\u001b[0;34m\u001b[0m\u001b[0;34m\u001b[0m\u001b[0m\n\u001b[0;32m----> 4\u001b[0;31m \u001b[0ma\u001b[0m\u001b[0;34m.\u001b[0m\u001b[0mindex\u001b[0m\u001b[0;34m(\u001b[0m\u001b[0;34m'c'\u001b[0m\u001b[0;34m)\u001b[0m\u001b[0;34m\u001b[0m\u001b[0;34m\u001b[0m\u001b[0m\n\u001b[0m",
      "\u001b[0;31mValueError\u001b[0m: 'c' is not in list"
     ]
    }
   ],
   "source": [
    "a = ['a','b']\n",
    "# a.pop(a.index('a'))\n",
    "# print(a)\n",
    "a.index('c')"
   ]
  },
  {
   "cell_type": "code",
   "execution_count": 86,
   "metadata": {},
   "outputs": [
    {
     "data": {
      "text/plain": [
       "6"
      ]
     },
     "execution_count": 86,
     "metadata": {},
     "output_type": "execute_result"
    }
   ],
   "source": [
    "a = np.array([1,1,0,0,2]).T\n",
    "b = np.array([1,1,0,0,2])\n",
    "np.dot(a,b)"
   ]
  }
 ],
 "metadata": {
  "kernelspec": {
   "display_name": "Python 3 (ipykernel)",
   "language": "python",
   "name": "python3"
  },
  "language_info": {
   "codemirror_mode": {
    "name": "ipython",
    "version": 3
   },
   "file_extension": ".py",
   "mimetype": "text/x-python",
   "name": "python",
   "nbconvert_exporter": "python",
   "pygments_lexer": "ipython3",
   "version": "3.8.8"
  }
 },
 "nbformat": 4,
 "nbformat_minor": 2
}
